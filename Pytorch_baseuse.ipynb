{
  "nbformat": 4,
  "nbformat_minor": 0,
  "metadata": {
    "colab": {
      "provenance": [],
      "authorship_tag": "ABX9TyMkYCq/v0/fOr1LQzGkXREI",
      "include_colab_link": true
    },
    "kernelspec": {
      "name": "python3",
      "display_name": "Python 3"
    },
    "language_info": {
      "name": "python"
    }
  },
  "cells": [
    {
      "cell_type": "markdown",
      "metadata": {
        "id": "view-in-github",
        "colab_type": "text"
      },
      "source": [
        "<a href=\"https://colab.research.google.com/github/qianlinnian/Pytorch-learning/blob/main/Pytorch_baseuse.ipynb\" target=\"_parent\"><img src=\"https://colab.research.google.com/assets/colab-badge.svg\" alt=\"Open In Colab\"/></a>"
      ]
    },
    {
      "cell_type": "markdown",
      "source": [
        "## Colab 常用快捷键\n",
        "\n",
        "* **Ctrl + M + B**: 在下方插入新单元格\n",
        "* **Ctrl + M + A**: 在上方插入新单元格\n",
        "* **Ctrl + M + D**: 删除单元格\n",
        "* **Ctrl + Enter**: 运行当前单元格\n",
        "* **Shift + Enter**: 运行当前单元格并跳转到下一个单元格\n",
        "* **Ctrl + Shift + Enter**: 运行当前单元格并向下滚动以显示下一个单元格\n",
        "* **Ctrl + M + M**: 将 code 单元格转变为文本单元格 (Markdown)\n",
        "* **Ctrl + M + Y**: 将文本单元格 (Markdown) 转变为 code 单元格\n",
        "* **Ctrl + S**: 保存笔记本\n",
        "* **Ctrl + /**: 注释/取消注释代码\n",
        "* **Tab**: 代码自动补全\n",
        "\n",
        "您可以在菜单栏中的“工具”->“键盘快捷键”中找到更多快捷键设置。"
      ],
      "metadata": {
        "id": "d4c50fbe"
      }
    },
    {
      "cell_type": "code",
      "execution_count": null,
      "metadata": {
        "colab": {
          "base_uri": "https://localhost:8080/"
        },
        "id": "Vq8fKKJBAMaH",
        "outputId": "cecc11bd-9346-492b-8e9d-bc9d2f4bb0df"
      },
      "outputs": [
        {
          "output_type": "stream",
          "name": "stdout",
          "text": [
            "2.8.0+cu126\n"
          ]
        }
      ],
      "source": [
        "import torch\n",
        "import pandas as pd\n",
        "import numpy as np\n",
        "import matplotlib.pyplot as plt\n",
        "print(torch.__version__)"
      ]
    },
    {
      "cell_type": "code",
      "source": [
        "Tensor = torch.tensor([[[1,2,3,4],[1,2,3,4],[1,2,3,4]],\n",
        "             [[1,2,3,4],[1,2,3,4],[1,2,3,4]]])\n",
        "Tensor"
      ],
      "metadata": {
        "colab": {
          "base_uri": "https://localhost:8080/"
        },
        "id": "bG1XQMVVB--l",
        "outputId": "35c139dd-06d1-41b5-efc5-20b8ffc5e529"
      },
      "execution_count": null,
      "outputs": [
        {
          "output_type": "execute_result",
          "data": {
            "text/plain": [
              "tensor([[[1, 2, 3, 4],\n",
              "         [1, 2, 3, 4],\n",
              "         [1, 2, 3, 4]],\n",
              "\n",
              "        [[1, 2, 3, 4],\n",
              "         [1, 2, 3, 4],\n",
              "         [1, 2, 3, 4]]])"
            ]
          },
          "metadata": {},
          "execution_count": 14
        }
      ]
    },
    {
      "cell_type": "code",
      "source": [
        "Tensor.ndim"
      ],
      "metadata": {
        "colab": {
          "base_uri": "https://localhost:8080/"
        },
        "id": "Jhe67cwHPr3A",
        "outputId": "24f39e17-f6fc-4eea-b941-bc83da114283"
      },
      "execution_count": null,
      "outputs": [
        {
          "output_type": "execute_result",
          "data": {
            "text/plain": [
              "3"
            ]
          },
          "metadata": {},
          "execution_count": 17
        }
      ]
    },
    {
      "cell_type": "code",
      "source": [
        "Tensor.shape"
      ],
      "metadata": {
        "colab": {
          "base_uri": "https://localhost:8080/"
        },
        "id": "77bXm9mxPssf",
        "outputId": "28f12199-ffae-428a-b40a-79c79f38e68c"
      },
      "execution_count": null,
      "outputs": [
        {
          "output_type": "execute_result",
          "data": {
            "text/plain": [
              "torch.Size([2, 3, 4])"
            ]
          },
          "metadata": {},
          "execution_count": 18
        }
      ]
    },
    {
      "cell_type": "code",
      "source": [
        "random_tensor = torch.rand(1,3,4)\n",
        "print(random_tensor)\n"
      ],
      "metadata": {
        "colab": {
          "base_uri": "https://localhost:8080/"
        },
        "id": "kgdbWimbTWd4",
        "outputId": "c2dd6c2f-324f-4c17-9d23-d80723df182c"
      },
      "execution_count": null,
      "outputs": [
        {
          "output_type": "stream",
          "name": "stdout",
          "text": [
            "tensor([[[0.2456, 0.8353, 0.0618, 0.0436],\n",
            "         [0.1574, 0.0849, 0.6714, 0.0808],\n",
            "         [0.8220, 0.4579, 0.8565, 0.1962]]])\n"
          ]
        }
      ]
    },
    {
      "cell_type": "code",
      "source": [
        "Tensor_A = torch.rand(3,4)\n",
        "Tensor_A"
      ],
      "metadata": {
        "colab": {
          "base_uri": "https://localhost:8080/"
        },
        "id": "rBoMXCfcC9Wx",
        "outputId": "98df5c5b-92f5-4e99-fd50-6a45d9990da9"
      },
      "execution_count": null,
      "outputs": [
        {
          "output_type": "execute_result",
          "data": {
            "text/plain": [
              "tensor([[0.0459, 0.2974, 0.2045, 0.0248],\n",
              "        [0.7078, 0.4720, 0.9029, 0.9771],\n",
              "        [0.1755, 0.9857, 0.3815, 0.6250]])"
            ]
          },
          "metadata": {},
          "execution_count": 6
        }
      ]
    },
    {
      "cell_type": "code",
      "source": [
        "Tensor_B = torch.zeros(3, 4)  # 创建同样形状的张量\n",
        "Tensor_B.copy_(Tensor_A)      # 注意是 copy_() 不是 copy()\n",
        "print(Tensor_B)\n",
        "\n",
        "print('\\n',Tensor_B.T)"
      ],
      "metadata": {
        "colab": {
          "base_uri": "https://localhost:8080/"
        },
        "id": "z9hHYhcyD3P0",
        "outputId": "626b2222-0213-4b03-818d-46986648d120"
      },
      "execution_count": null,
      "outputs": [
        {
          "output_type": "stream",
          "name": "stdout",
          "text": [
            "tensor([[0.0459, 0.2974, 0.2045, 0.0248],\n",
            "        [0.7078, 0.4720, 0.9029, 0.9771],\n",
            "        [0.1755, 0.9857, 0.3815, 0.6250]])\n",
            "\n",
            " tensor([[0.0459, 0.7078, 0.1755],\n",
            "        [0.2974, 0.4720, 0.9857],\n",
            "        [0.2045, 0.9029, 0.3815],\n",
            "        [0.0248, 0.9771, 0.6250]])\n"
          ]
        }
      ]
    },
    {
      "cell_type": "code",
      "source": [
        "Tensor_C = torch.rand(20).type(torch.int64)\n",
        "\n",
        "Tensor_C.argmin()"
      ],
      "metadata": {
        "colab": {
          "base_uri": "https://localhost:8080/"
        },
        "id": "mq884oz6QC3m",
        "outputId": "62054c97-fce7-4277-c406-36d579b068a6"
      },
      "execution_count": null,
      "outputs": [
        {
          "output_type": "execute_result",
          "data": {
            "text/plain": [
              "tensor(0)"
            ]
          },
          "metadata": {},
          "execution_count": 31
        }
      ]
    },
    {
      "cell_type": "code",
      "source": [],
      "metadata": {
        "id": "gychW7GSQ9mr"
      },
      "execution_count": null,
      "outputs": []
    }
  ]
}